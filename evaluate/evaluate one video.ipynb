{
 "cells": [
  {
   "cell_type": "code",
   "execution_count": 1,
   "metadata": {},
   "outputs": [],
   "source": [
    "# Importing necessary libraries\n",
    "import torch\n",
    "import torch.nn as nn\n",
    "import torch.optim as optim\n",
    "from torchvision import models\n",
    "\n",
    "import numpy as np\n",
    "import matplotlib.pyplot as plt\n",
    "from torch.utils.data import Dataset, DataLoader\n",
    "from torchvision.transforms import transforms\n",
    "from PIL import Image\n",
    "import os\n",
    "from tqdm import tqdm\n",
    "\n",
    "# torch.backends.cuda.matmul.allow_tf32 = False\n",
    "os.environ['CUDA_LAUNCH_BLOCKING'] = '1'\n",
    "os.environ['TORCH_USE_CUDA_DSA'] = '1'\n",
    "\n",
    "import albumentations as A\n",
    "from albumentations.pytorch import ToTensorV2\n",
    "import cv2\n",
    "from ultralytics import YOLO\n",
    "import torch.nn.functional as F\n",
    "from tqdm import trange\n",
    "import albumentations as A\n",
    "threshold = [0, 0, 0]\n",
    "import json"
   ]
  },
  {
   "cell_type": "code",
   "execution_count": 2,
   "metadata": {},
   "outputs": [],
   "source": [
    "import sys\n",
    "sys.path.append('../utils/')\n",
    "# sys.path.append('../utils/model/')\n",
    "from generateMaskArea import generate_mask_area\n",
    "from bboxAnalyse import yolov8_detection, get_score, record, get_GT_label,convert_scores,cal_correct_count,show_class_item\n",
    "\n",
    "from getFrameNumber import get_total_frame_number"
   ]
  },
  {
   "cell_type": "code",
   "execution_count": 3,
   "metadata": {},
   "outputs": [],
   "source": [
    "class CFG:\n",
    "    ######### importtant #########\n",
    "    video_name = 'GX020091_resize.mp4'\n",
    "    binary_model_addr = 'D:/model56.pth'\n",
    "    video_root =  'D:/data/cow_teat_segmentation/2022_02_08_Aim2-selected'\n",
    "    save_root = 'D:/2022_02_08_Aim2-selected_mask_area'\n",
    "    yolo_model_path = '../model/yolov8m.pt'\n",
    "    ######### importtant #########\n",
    "    \n",
    "    if os.path.exists(save_root) == False:\n",
    "        os.mkdir(save_root)\n",
    "    \n",
    "    \n",
    "    device = 'cuda'\n",
    "    \n",
    "    \n",
    "    video_list = os.listdir(video_root)\n",
    "    video_name_list = [i.split('_')[0] for i in video_list]\n",
    "\n",
    "    video_path = video_root + '/' + video_name\n",
    "    transform = A.Compose([\n",
    "        A.Resize(224, 224),\n",
    "        A.Normalize(),\n",
    "        ToTensorV2(),\n",
    "    ])\n",
    "cfg = CFG()"
   ]
  },
  {
   "cell_type": "markdown",
   "metadata": {},
   "source": [
    "# binary segmentation model"
   ]
  },
  {
   "cell_type": "code",
   "execution_count": 4,
   "metadata": {},
   "outputs": [],
   "source": [
    "from model.unet import UNet"
   ]
  },
  {
   "cell_type": "code",
   "execution_count": 5,
   "metadata": {},
   "outputs": [
    {
     "data": {
      "text/plain": [
       "UNet(\n",
       "  (inc): DoubleConv(\n",
       "    (conv): Sequential(\n",
       "      (0): Conv2d(3, 64, kernel_size=(3, 3), stride=(1, 1), padding=(1, 1))\n",
       "      (1): BatchNorm2d(64, eps=1e-05, momentum=0.1, affine=True, track_running_stats=True)\n",
       "      (2): ReLU(inplace=True)\n",
       "      (3): Conv2d(64, 64, kernel_size=(3, 3), stride=(1, 1), padding=(1, 1))\n",
       "      (4): BatchNorm2d(64, eps=1e-05, momentum=0.1, affine=True, track_running_stats=True)\n",
       "      (5): ReLU(inplace=True)\n",
       "      (6): Conv2d(64, 64, kernel_size=(3, 3), stride=(1, 1), padding=(1, 1))\n",
       "      (7): BatchNorm2d(64, eps=1e-05, momentum=0.1, affine=True, track_running_stats=True)\n",
       "      (8): ReLU(inplace=True)\n",
       "    )\n",
       "  )\n",
       "  (down1): Down(\n",
       "    (mpconv): Sequential(\n",
       "      (0): MaxPool2d(kernel_size=2, stride=2, padding=0, dilation=1, ceil_mode=False)\n",
       "      (1): DoubleConv(\n",
       "        (conv): Sequential(\n",
       "          (0): Conv2d(64, 128, kernel_size=(3, 3), stride=(1, 1), padding=(1, 1))\n",
       "          (1): BatchNorm2d(128, eps=1e-05, momentum=0.1, affine=True, track_running_stats=True)\n",
       "          (2): ReLU(inplace=True)\n",
       "          (3): Conv2d(128, 128, kernel_size=(3, 3), stride=(1, 1), padding=(1, 1))\n",
       "          (4): BatchNorm2d(128, eps=1e-05, momentum=0.1, affine=True, track_running_stats=True)\n",
       "          (5): ReLU(inplace=True)\n",
       "          (6): Conv2d(128, 128, kernel_size=(3, 3), stride=(1, 1), padding=(1, 1))\n",
       "          (7): BatchNorm2d(128, eps=1e-05, momentum=0.1, affine=True, track_running_stats=True)\n",
       "          (8): ReLU(inplace=True)\n",
       "        )\n",
       "      )\n",
       "    )\n",
       "  )\n",
       "  (down2): Down(\n",
       "    (mpconv): Sequential(\n",
       "      (0): MaxPool2d(kernel_size=2, stride=2, padding=0, dilation=1, ceil_mode=False)\n",
       "      (1): DoubleConv(\n",
       "        (conv): Sequential(\n",
       "          (0): Conv2d(128, 256, kernel_size=(3, 3), stride=(1, 1), padding=(1, 1))\n",
       "          (1): BatchNorm2d(256, eps=1e-05, momentum=0.1, affine=True, track_running_stats=True)\n",
       "          (2): ReLU(inplace=True)\n",
       "          (3): Conv2d(256, 256, kernel_size=(3, 3), stride=(1, 1), padding=(1, 1))\n",
       "          (4): BatchNorm2d(256, eps=1e-05, momentum=0.1, affine=True, track_running_stats=True)\n",
       "          (5): ReLU(inplace=True)\n",
       "          (6): Conv2d(256, 256, kernel_size=(3, 3), stride=(1, 1), padding=(1, 1))\n",
       "          (7): BatchNorm2d(256, eps=1e-05, momentum=0.1, affine=True, track_running_stats=True)\n",
       "          (8): ReLU(inplace=True)\n",
       "        )\n",
       "      )\n",
       "    )\n",
       "  )\n",
       "  (down3): Down(\n",
       "    (mpconv): Sequential(\n",
       "      (0): MaxPool2d(kernel_size=2, stride=2, padding=0, dilation=1, ceil_mode=False)\n",
       "      (1): DoubleConv(\n",
       "        (conv): Sequential(\n",
       "          (0): Conv2d(256, 512, kernel_size=(3, 3), stride=(1, 1), padding=(1, 1))\n",
       "          (1): BatchNorm2d(512, eps=1e-05, momentum=0.1, affine=True, track_running_stats=True)\n",
       "          (2): ReLU(inplace=True)\n",
       "          (3): Conv2d(512, 512, kernel_size=(3, 3), stride=(1, 1), padding=(1, 1))\n",
       "          (4): BatchNorm2d(512, eps=1e-05, momentum=0.1, affine=True, track_running_stats=True)\n",
       "          (5): ReLU(inplace=True)\n",
       "          (6): Conv2d(512, 512, kernel_size=(3, 3), stride=(1, 1), padding=(1, 1))\n",
       "          (7): BatchNorm2d(512, eps=1e-05, momentum=0.1, affine=True, track_running_stats=True)\n",
       "          (8): ReLU(inplace=True)\n",
       "        )\n",
       "      )\n",
       "    )\n",
       "  )\n",
       "  (down4): Down(\n",
       "    (mpconv): Sequential(\n",
       "      (0): MaxPool2d(kernel_size=2, stride=2, padding=0, dilation=1, ceil_mode=False)\n",
       "      (1): DoubleConv(\n",
       "        (conv): Sequential(\n",
       "          (0): Conv2d(512, 512, kernel_size=(3, 3), stride=(1, 1), padding=(1, 1))\n",
       "          (1): BatchNorm2d(512, eps=1e-05, momentum=0.1, affine=True, track_running_stats=True)\n",
       "          (2): ReLU(inplace=True)\n",
       "          (3): Conv2d(512, 512, kernel_size=(3, 3), stride=(1, 1), padding=(1, 1))\n",
       "          (4): BatchNorm2d(512, eps=1e-05, momentum=0.1, affine=True, track_running_stats=True)\n",
       "          (5): ReLU(inplace=True)\n",
       "          (6): Conv2d(512, 512, kernel_size=(3, 3), stride=(1, 1), padding=(1, 1))\n",
       "          (7): BatchNorm2d(512, eps=1e-05, momentum=0.1, affine=True, track_running_stats=True)\n",
       "          (8): ReLU(inplace=True)\n",
       "        )\n",
       "      )\n",
       "    )\n",
       "  )\n",
       "  (up1): Up(\n",
       "    (up): ConvTranspose2d(512, 512, kernel_size=(2, 2), stride=(2, 2))\n",
       "    (conv): DoubleConv(\n",
       "      (conv): Sequential(\n",
       "        (0): Conv2d(1024, 256, kernel_size=(3, 3), stride=(1, 1), padding=(1, 1))\n",
       "        (1): BatchNorm2d(256, eps=1e-05, momentum=0.1, affine=True, track_running_stats=True)\n",
       "        (2): ReLU(inplace=True)\n",
       "        (3): Conv2d(256, 256, kernel_size=(3, 3), stride=(1, 1), padding=(1, 1))\n",
       "        (4): BatchNorm2d(256, eps=1e-05, momentum=0.1, affine=True, track_running_stats=True)\n",
       "        (5): ReLU(inplace=True)\n",
       "        (6): Conv2d(256, 256, kernel_size=(3, 3), stride=(1, 1), padding=(1, 1))\n",
       "        (7): BatchNorm2d(256, eps=1e-05, momentum=0.1, affine=True, track_running_stats=True)\n",
       "        (8): ReLU(inplace=True)\n",
       "      )\n",
       "    )\n",
       "  )\n",
       "  (up2): Up(\n",
       "    (up): ConvTranspose2d(256, 256, kernel_size=(2, 2), stride=(2, 2))\n",
       "    (conv): DoubleConv(\n",
       "      (conv): Sequential(\n",
       "        (0): Conv2d(512, 128, kernel_size=(3, 3), stride=(1, 1), padding=(1, 1))\n",
       "        (1): BatchNorm2d(128, eps=1e-05, momentum=0.1, affine=True, track_running_stats=True)\n",
       "        (2): ReLU(inplace=True)\n",
       "        (3): Conv2d(128, 128, kernel_size=(3, 3), stride=(1, 1), padding=(1, 1))\n",
       "        (4): BatchNorm2d(128, eps=1e-05, momentum=0.1, affine=True, track_running_stats=True)\n",
       "        (5): ReLU(inplace=True)\n",
       "        (6): Conv2d(128, 128, kernel_size=(3, 3), stride=(1, 1), padding=(1, 1))\n",
       "        (7): BatchNorm2d(128, eps=1e-05, momentum=0.1, affine=True, track_running_stats=True)\n",
       "        (8): ReLU(inplace=True)\n",
       "      )\n",
       "    )\n",
       "  )\n",
       "  (up3): Up(\n",
       "    (up): ConvTranspose2d(128, 128, kernel_size=(2, 2), stride=(2, 2))\n",
       "    (conv): DoubleConv(\n",
       "      (conv): Sequential(\n",
       "        (0): Conv2d(256, 64, kernel_size=(3, 3), stride=(1, 1), padding=(1, 1))\n",
       "        (1): BatchNorm2d(64, eps=1e-05, momentum=0.1, affine=True, track_running_stats=True)\n",
       "        (2): ReLU(inplace=True)\n",
       "        (3): Conv2d(64, 64, kernel_size=(3, 3), stride=(1, 1), padding=(1, 1))\n",
       "        (4): BatchNorm2d(64, eps=1e-05, momentum=0.1, affine=True, track_running_stats=True)\n",
       "        (5): ReLU(inplace=True)\n",
       "        (6): Conv2d(64, 64, kernel_size=(3, 3), stride=(1, 1), padding=(1, 1))\n",
       "        (7): BatchNorm2d(64, eps=1e-05, momentum=0.1, affine=True, track_running_stats=True)\n",
       "        (8): ReLU(inplace=True)\n",
       "      )\n",
       "    )\n",
       "  )\n",
       "  (up4): Up(\n",
       "    (up): ConvTranspose2d(64, 64, kernel_size=(2, 2), stride=(2, 2))\n",
       "    (conv): DoubleConv(\n",
       "      (conv): Sequential(\n",
       "        (0): Conv2d(128, 64, kernel_size=(3, 3), stride=(1, 1), padding=(1, 1))\n",
       "        (1): BatchNorm2d(64, eps=1e-05, momentum=0.1, affine=True, track_running_stats=True)\n",
       "        (2): ReLU(inplace=True)\n",
       "        (3): Conv2d(64, 64, kernel_size=(3, 3), stride=(1, 1), padding=(1, 1))\n",
       "        (4): BatchNorm2d(64, eps=1e-05, momentum=0.1, affine=True, track_running_stats=True)\n",
       "        (5): ReLU(inplace=True)\n",
       "        (6): Conv2d(64, 64, kernel_size=(3, 3), stride=(1, 1), padding=(1, 1))\n",
       "        (7): BatchNorm2d(64, eps=1e-05, momentum=0.1, affine=True, track_running_stats=True)\n",
       "        (8): ReLU(inplace=True)\n",
       "      )\n",
       "    )\n",
       "  )\n",
       "  (outc): Conv2d(64, 2, kernel_size=(1, 1), stride=(1, 1))\n",
       ")"
      ]
     },
     "execution_count": 5,
     "metadata": {},
     "output_type": "execute_result"
    }
   ],
   "source": [
    "model = UNet(2)\n",
    "model.load_state_dict(torch.load(cfg.binary_model_addr))\n",
    "model.to(cfg.device)"
   ]
  },
  {
   "cell_type": "markdown",
   "metadata": {},
   "source": [
    "# generate mask area image"
   ]
  },
  {
   "cell_type": "code",
   "execution_count": 6,
   "metadata": {},
   "outputs": [
    {
     "name": "stdout",
     "output_type": "stream",
     "text": [
      "Video GX020091_resize is already processed\n"
     ]
    }
   ],
   "source": [
    "\n",
    "generate_mask_area(model,device=cfg.device, save_root=cfg.save_root, video_path = cfg.video_path,Atransform=cfg.transform)"
   ]
  },
  {
   "cell_type": "code",
   "execution_count": 7,
   "metadata": {},
   "outputs": [],
   "source": [
    "image_pre_name = cfg.video_name.split('.')[0] + '_'\n",
    "root_dir = cfg.save_root + '/' + cfg.video_name.split('.')[0] +'/'"
   ]
  },
  {
   "cell_type": "code",
   "execution_count": 8,
   "metadata": {},
   "outputs": [],
   "source": [
    "class SegmentationDataset():\n",
    "  def __init__(self, root_dir, image_pre_name,  transform=None):\n",
    "    self.root_dir = root_dir\n",
    "    self.transform = transform\n",
    "    self.image_list = os.listdir(root_dir)\n",
    "    self.len = len(self.image_list)\n",
    "    self.image_pre_name = image_pre_name # 'GX010089_resize_' or 'GX030089_resize_'\n",
    "  def __len__(self):\n",
    "    return self.len\n",
    "    # return len(self.image_list)\n",
    "\n",
    "  def __getitem__(self, idx):\n",
    "    image_name = self.image_pre_name + str(idx)+'.png'\n",
    "    img_path= self.root_dir+ image_name\n",
    "    image = cv2.imread(img_path)\n",
    "    return image,img_path"
   ]
  },
  {
   "cell_type": "code",
   "execution_count": 9,
   "metadata": {},
   "outputs": [],
   "source": [
    "data = SegmentationDataset(root_dir = root_dir, image_pre_name=image_pre_name)"
   ]
  },
  {
   "cell_type": "code",
   "execution_count": 10,
   "metadata": {},
   "outputs": [],
   "source": [
    "yolo_model  = YOLO(cfg.yolo_model_path)"
   ]
  },
  {
   "cell_type": "code",
   "execution_count": 11,
   "metadata": {},
   "outputs": [],
   "source": [
    "all_result = dict()"
   ]
  },
  {
   "cell_type": "code",
   "execution_count": 12,
   "metadata": {},
   "outputs": [
    {
     "name": "stderr",
     "output_type": "stream",
     "text": [
      "processing video GX020091_resize.mp4: 15961it [04:29, 59.18it/s]                           \n"
     ]
    }
   ],
   "source": [
    "# for video_name in GT_labels:\n",
    "#     if video_name in all_result:\n",
    "#         print(video_name + \" already processed\")\n",
    "#         continue\n",
    "#     mask_aadr = cfg.save_root + '/' + video_name + \"_resize/\"\n",
    "#     image_pre_name = video_name + '_resize_'\n",
    "#     mask_dataset = SegmentationDataset(root_dir = mask_aadr, image_pre_name=image_pre_name)\n",
    "scores = np.array([[[0]*4]*4]*61)\n",
    "\n",
    "video_path = cfg.video_root+\"/\"+cfg.video_name\n",
    "\n",
    "count = 0 \n",
    "video = cv2.VideoCapture(video_path)\n",
    "if (video.isOpened()== False):\n",
    "    print(\"Error opening video file\")\n",
    "total_frames = int(video.get(cv2.CAP_PROP_FRAME_COUNT))\n",
    "\n",
    "with tqdm(total=total_frames,desc=\"processing video \" + cfg.video_name ) as pbar:\n",
    "    while(video.isOpened()):\n",
    "    # Capture frame-by-frame\n",
    "        pbar.update(1)\n",
    "        ret, original_image = video.read()\n",
    "        if ret == True:\n",
    "            image, img_path = data[count]\n",
    "            count += 1\n",
    "            result = np.nan*np.ones(65)\n",
    "            mask = np.all(image > threshold, axis=2)\n",
    "            yolov8_boxex,yolov8_class_id, image,results = yolov8_detection(yolo_model, image)\n",
    "            \n",
    "            copy_oirginal_image = original_image.copy()\n",
    "            if len(yolov8_boxex) > 0:\n",
    "                score_for_1img = get_score(yolov8_class_id,yolov8_boxex)\n",
    "                record(scores,score_for_1img)\n",
    "            else:\n",
    "                continue\n",
    "        else:\n",
    "            break\n",
    "    video.release()\n",
    "all_result[cfg.video_name.split('_')[0]] = convert_scores(scores)\n",
    "# save as json\n",
    "with open('scores.json', 'w') as fp:\n",
    "    json.dump(all_result, fp)"
   ]
  },
  {
   "cell_type": "code",
   "execution_count": 27,
   "metadata": {},
   "outputs": [
    {
     "data": {
      "text/plain": [
       "{'GX010089': {'1': [nan, nan, nan, nan],\n",
       "  '2': [nan, nan, nan, nan],\n",
       "  '3': [nan, nan, nan, nan],\n",
       "  '4': [nan, nan, nan, nan],\n",
       "  '5': [nan, nan, nan, nan],\n",
       "  '6': [nan, nan, nan, nan],\n",
       "  '7': [nan, nan, nan, nan],\n",
       "  '8': [nan, nan, nan, nan],\n",
       "  '9': [nan, nan, nan, nan],\n",
       "  '10': [nan, nan, nan, nan],\n",
       "  '11': [nan, nan, nan, nan],\n",
       "  '12': [nan, nan, nan, nan],\n",
       "  '13': [nan, nan, nan, nan],\n",
       "  '14': [nan, nan, nan, nan],\n",
       "  '15': [nan, nan, nan, nan],\n",
       "  '16': [nan, nan, nan, nan],\n",
       "  '17': [nan, nan, nan, nan],\n",
       "  '18': [nan, nan, nan, nan],\n",
       "  '19': [2.0, 4.0, 2.0, 2.0],\n",
       "  '20': [nan, nan, nan, nan],\n",
       "  '21': [2.0, 2.0, 2.0, 2.0],\n",
       "  '22': [2.0, 2.0, 2.0, 2.0],\n",
       "  '23': [nan, nan, nan, nan],\n",
       "  '24': [1.0, 2.0, 1.0, 2.0],\n",
       "  '25': [2.0, 2.0, 2.0, 2.0],\n",
       "  '26': [2.0, 2.0, 2.0, 2.0],\n",
       "  '27': [nan, nan, nan, nan],\n",
       "  '28': [2.0, 2.0, 2.0, 3.0],\n",
       "  '29': [2.0, 4.0, 2.0, 2.0],\n",
       "  '30': [2.0, 2.0, 2.0, 2.0],\n",
       "  '31': [2.0, 3.0, 2.0, 3.0],\n",
       "  '32': [2.0, 2.0, 2.0, 2.0],\n",
       "  '33': [3.0, 2.0, 2.0, 2.0],\n",
       "  '34': [2.0, 2.0, 2.0, 2.0],\n",
       "  '35': [2.0, 2.0, 2.0, 2.0],\n",
       "  '36': [2.0, 2.0, 2.0, 2.0],\n",
       "  '37': [nan, nan, nan, nan],\n",
       "  '38': [nan, nan, nan, nan],\n",
       "  '39': [2.0, 2.0, 2.0, 2.0],\n",
       "  '40': [2.0, 2.0, 2.0, 2.0],\n",
       "  '41': [2.0, 2.0, 2.0, 2.0],\n",
       "  '42': [2.0, 2.0, 2.0, 2.0],\n",
       "  '43': [3.0, 3.0, 3.0, 3.0],\n",
       "  '44': [2.0, 2.0, 2.0, 2.0],\n",
       "  '45': [nan, nan, nan, nan],\n",
       "  '46': [nan, nan, nan, nan],\n",
       "  '47': [2.0, 2.0, 2.0, 2.0],\n",
       "  '48': [2.0, 2.0, 2.0, 2.0],\n",
       "  '49': [2.0, 2.0, 2.0, 2.0],\n",
       "  '50': [nan, nan, nan, nan],\n",
       "  '51': [2.0, 2.0, 2.0, 2.0],\n",
       "  '52': [2.0, 2.0, 2.0, 2.0],\n",
       "  '53': [2.0, 2.0, 2.0, 2.0],\n",
       "  '54': [2.0, 2.0, 2.0, 2.0],\n",
       "  '55': [2.0, 2.0, 2.0, 2.0],\n",
       "  '56': [nan, nan, nan, nan],\n",
       "  '57': [nan, nan, nan, nan],\n",
       "  '58': [nan, nan, nan, nan],\n",
       "  '59': [2.0, 2.0, 2.0, 2.0],\n",
       "  '60': [nan, nan, nan, nan]},\n",
       " 'GX010090': {'1': [2.0, 2.0, 2.0, 2.0],\n",
       "  '2': [3.0, 2.0, 3.0, 2.0],\n",
       "  '3': [2.0, 2.0, 2.0, 2.0],\n",
       "  '4': [3.0, 2.0, 3.0, 2.0],\n",
       "  '5': [3.0, 2.0, 3.0, 2.0],\n",
       "  '6': [3.0, 3.0, 3.0, 2.0],\n",
       "  '7': [2.0, 2.0, 2.0, 2.0],\n",
       "  '8': [2.0, 2.0, 2.0, 2.0],\n",
       "  '9': [2.0, 2.0, 2.0, 2.0],\n",
       "  '10': [2.0, 2.0, 2.0, 2.0],\n",
       "  '11': [3.0, 2.0, 3.0, 2.0],\n",
       "  '12': [2.0, 2.0, 2.0, 2.0],\n",
       "  '13': [2.0, 2.0, 3.0, 2.0],\n",
       "  '14': [2.0, 2.0, 2.0, 1.0],\n",
       "  '15': [3.0, 3.0, 3.0, 3.0],\n",
       "  '16': [2.0, 2.0, 2.0, 2.0],\n",
       "  '17': [2.0, 2.0, 2.0, 2.0],\n",
       "  '18': [3.0, 3.0, 3.0, 3.0],\n",
       "  '19': [2.0, 2.0, 2.0, 2.0],\n",
       "  '20': [nan, nan, nan, nan],\n",
       "  '21': [2.0, 2.0, 2.0, 2.0],\n",
       "  '22': [3.0, 2.0, 3.0, 2.0],\n",
       "  '23': [3.0, 2.0, 3.0, 2.0],\n",
       "  '24': [2.0, 3.0, 2.0, 2.0],\n",
       "  '25': [3.0, 3.0, 3.0, 3.0],\n",
       "  '26': [nan, nan, nan, nan],\n",
       "  '27': [3.0, 2.0, 3.0, 2.0],\n",
       "  '28': [2.0, 2.0, 2.0, 2.0],\n",
       "  '29': [2.0, 2.0, 2.0, 2.0],\n",
       "  '30': [2.0, 2.0, 2.0, 2.0],\n",
       "  '31': [3.0, 2.0, 3.0, 3.0],\n",
       "  '32': [nan, nan, nan, nan],\n",
       "  '33': [nan, nan, nan, nan],\n",
       "  '34': [3.0, 3.0, 3.0, 3.0],\n",
       "  '35': [nan, nan, nan, nan],\n",
       "  '36': [2.0, 2.0, 2.0, 2.0],\n",
       "  '37': [2.0, 2.0, 2.0, 2.0],\n",
       "  '38': [nan, nan, nan, nan],\n",
       "  '39': [nan, nan, nan, nan],\n",
       "  '40': [2.0, 2.0, 2.0, 2.0],\n",
       "  '41': [3.0, 3.0, 3.0, 3.0],\n",
       "  '42': [3.0, 2.0, 3.0, 2.0],\n",
       "  '43': [2.0, 2.0, 2.0, 2.0],\n",
       "  '44': [2.0, 2.0, 2.0, 3.0],\n",
       "  '45': [nan, nan, nan, nan],\n",
       "  '46': [3.0, 2.0, 3.0, 3.0],\n",
       "  '47': [3.0, 2.0, 3.0, 2.0],\n",
       "  '48': [2.0, 2.0, 2.0, 2.0],\n",
       "  '49': [3.0, 2.0, 3.0, 2.0],\n",
       "  '50': [2.0, 2.0, 2.0, 2.0],\n",
       "  '51': [3.0, 3.0, 3.0, 3.0],\n",
       "  '52': [2.0, 2.0, 2.0, 2.0],\n",
       "  '53': [2.0, 2.0, 2.0, 2.0],\n",
       "  '54': [3.0, 3.0, 3.0, 3.0],\n",
       "  '55': [2.0, 2.0, 2.0, 2.0],\n",
       "  '56': [3.0, 2.0, 3.0, 2.0],\n",
       "  '57': [3.0, 3.0, 3.0, 3.0],\n",
       "  '58': [2.0, 2.0, 2.0, 2.0],\n",
       "  '59': [2.0, 2.0, 2.0, 2.0],\n",
       "  '60': [3.0, 2.0, 3.0, 2.0]}}"
      ]
     },
     "execution_count": 27,
     "metadata": {},
     "output_type": "execute_result"
    }
   ],
   "source": [
    "result"
   ]
  },
  {
   "cell_type": "code",
   "execution_count": 28,
   "metadata": {},
   "outputs": [
    {
     "data": {
      "text/plain": [
       "True"
      ]
     },
     "execution_count": 28,
     "metadata": {},
     "output_type": "execute_result"
    }
   ],
   "source": [
    "'GX010089' in result"
   ]
  },
  {
   "cell_type": "code",
   "execution_count": 22,
   "metadata": {},
   "outputs": [
    {
     "data": {
      "text/plain": [
       "(array([[[0, 0, 0],\n",
       "         [0, 0, 0],\n",
       "         [0, 0, 0],\n",
       "         ...,\n",
       "         [0, 0, 0],\n",
       "         [0, 0, 0],\n",
       "         [0, 0, 0]],\n",
       " \n",
       "        [[0, 0, 0],\n",
       "         [0, 0, 0],\n",
       "         [0, 0, 0],\n",
       "         ...,\n",
       "         [0, 0, 0],\n",
       "         [0, 0, 0],\n",
       "         [0, 0, 0]],\n",
       " \n",
       "        [[0, 0, 0],\n",
       "         [0, 0, 0],\n",
       "         [0, 0, 0],\n",
       "         ...,\n",
       "         [0, 0, 0],\n",
       "         [0, 0, 0],\n",
       "         [0, 0, 0]],\n",
       " \n",
       "        ...,\n",
       " \n",
       "        [[0, 0, 0],\n",
       "         [0, 0, 0],\n",
       "         [0, 0, 0],\n",
       "         ...,\n",
       "         [0, 0, 0],\n",
       "         [0, 0, 0],\n",
       "         [0, 0, 0]],\n",
       " \n",
       "        [[0, 0, 0],\n",
       "         [0, 0, 0],\n",
       "         [0, 0, 0],\n",
       "         ...,\n",
       "         [0, 0, 0],\n",
       "         [0, 0, 0],\n",
       "         [0, 0, 0]],\n",
       " \n",
       "        [[0, 0, 0],\n",
       "         [0, 0, 0],\n",
       "         [0, 0, 0],\n",
       "         ...,\n",
       "         [0, 0, 0],\n",
       "         [0, 0, 0],\n",
       "         [0, 0, 0]]], dtype=uint8),\n",
       " 'D:/data/cow_teat_segmentation/2022_02_08_Aim2-selected_mask_area/GX010089_resize/GX010089_resize_0.png')"
      ]
     },
     "execution_count": 22,
     "metadata": {},
     "output_type": "execute_result"
    }
   ],
   "source": [
    "mask_dataset[0]"
   ]
  },
  {
   "cell_type": "code",
   "execution_count": 9,
   "metadata": {},
   "outputs": [],
   "source": [
    "data = SegmentationDataset(root_dir = root_dir, image_pre_name=image_pre_name)"
   ]
  },
  {
   "cell_type": "code",
   "execution_count": 10,
   "metadata": {},
   "outputs": [],
   "source": [
    "yolo_model  = YOLO(cfg.yolo_model_path)"
   ]
  },
  {
   "cell_type": "markdown",
   "metadata": {},
   "source": [
    "# calculate scores"
   ]
  },
  {
   "cell_type": "code",
   "execution_count": 11,
   "metadata": {},
   "outputs": [
    {
     "name": "stderr",
     "output_type": "stream",
     "text": [
      "  8%|▊         | 1233/15960 [00:43<08:44, 28.10it/s]\n"
     ]
    },
    {
     "ename": "TypeError",
     "evalue": "'>' not supported between instances of 'NoneType' and 'list'",
     "output_type": "error",
     "traceback": [
      "\u001b[1;31m---------------------------------------------------------------------------\u001b[0m",
      "\u001b[1;31mTypeError\u001b[0m                                 Traceback (most recent call last)",
      "Cell \u001b[1;32mIn[11], line 17\u001b[0m\n\u001b[0;32m     15\u001b[0m count\u001b[39m+\u001b[39m\u001b[39m=\u001b[39m\u001b[39m1\u001b[39m\n\u001b[0;32m     16\u001b[0m result \u001b[39m=\u001b[39m np\u001b[39m.\u001b[39mnan\u001b[39m*\u001b[39mnp\u001b[39m.\u001b[39mones(\u001b[39m65\u001b[39m)\n\u001b[1;32m---> 17\u001b[0m mask \u001b[39m=\u001b[39m np\u001b[39m.\u001b[39mall(image \u001b[39m>\u001b[39;49m threshold, axis\u001b[39m=\u001b[39m\u001b[39m2\u001b[39m)\n\u001b[0;32m     18\u001b[0m yolov8_boxex,yolov8_class_id, image,results \u001b[39m=\u001b[39m yolov8_detection(yolo_model, image)\n\u001b[0;32m     20\u001b[0m copy_oirginal_image \u001b[39m=\u001b[39m original_image\u001b[39m.\u001b[39mcopy()\n",
      "\u001b[1;31mTypeError\u001b[0m: '>' not supported between instances of 'NoneType' and 'list'"
     ]
    }
   ],
   "source": [
    "scores = np.array([[[0]*4]*4]*61)\n",
    "\n",
    "count = 0 \n",
    "video = cv2.VideoCapture(cfg.video_path)\n",
    "if (video.isOpened()== False):\n",
    "    print(\"Error opening video file\")\n",
    "total_frames = int(video.get(cv2.CAP_PROP_FRAME_COUNT))\n",
    "\n",
    "with tqdm(total=total_frames) as pbar:\n",
    "    while(video.isOpened()):\n",
    "    # Capture frame-by-frame\n",
    "        ret, original_image = video.read()\n",
    "        if ret == True:\n",
    "            image, img_path = data[count]\n",
    "            count+=1\n",
    "            result = np.nan*np.ones(65)\n",
    "            mask = np.all(image > threshold, axis=2)\n",
    "            yolov8_boxex,yolov8_class_id, image,results = yolov8_detection(yolo_model, image)\n",
    "            \n",
    "            copy_oirginal_image = original_image.copy()\n",
    "            if len(yolov8_boxex) > 0:\n",
    "                score_for_1img = get_score(yolov8_class_id,yolov8_boxex)\n",
    "                record(scores,score_for_1img)\n",
    "            else:\n",
    "                continue\n",
    "            pbar.update(1)\n",
    "        else:\n",
    "            video.release()"
   ]
  },
  {
   "cell_type": "code",
   "execution_count": 13,
   "metadata": {},
   "outputs": [],
   "source": [
    "GT_dict = get_GT_label(cfg.video_name.split(\"_\")[0])\n",
    "pred_dict = convert_scores(scores)"
   ]
  },
  {
   "cell_type": "code",
   "execution_count": 18,
   "metadata": {},
   "outputs": [
    {
     "name": "stdout",
     "output_type": "stream",
     "text": [
      "overall accuracy for  GX020090 : 0.44680851063829785\n"
     ]
    }
   ],
   "source": [
    "total_count,correct_count,class_total,correct_class_total = cal_correct_count(GT_dict,pred_dict)\n",
    "print(\"overall accuracy for \",cfg.video_name.split('_')[0],\":\",correct_count/total_count)"
   ]
  },
  {
   "cell_type": "code",
   "execution_count": 19,
   "metadata": {},
   "outputs": [
    {
     "name": "stdout",
     "output_type": "stream",
     "text": [
      "score 1 correct: 0.0 score 1 total: 20.0\n",
      "score 2 correct: 73.0 score 2 total: 119.0\n",
      "score 3 correct: 11.0 score 3 total: 33.0\n",
      "score 4 correct: 0.0 score 4 total: 12.0\n"
     ]
    }
   ],
   "source": [
    "show_class_item(correct_class_total,class_total)"
   ]
  }
 ],
 "metadata": {
  "kernelspec": {
   "display_name": "cuda118_3",
   "language": "python",
   "name": "python3"
  },
  "language_info": {
   "codemirror_mode": {
    "name": "ipython",
    "version": 3
   },
   "file_extension": ".py",
   "mimetype": "text/x-python",
   "name": "python",
   "nbconvert_exporter": "python",
   "pygments_lexer": "ipython3",
   "version": "3.10.9"
  },
  "orig_nbformat": 4
 },
 "nbformat": 4,
 "nbformat_minor": 2
}
